{
 "cells": [
  {
   "cell_type": "code",
   "execution_count": null,
   "id": "f3e96cc7-9993-411e-85a8-e4cb1ecd886e",
   "metadata": {
    "scrolled": true
   },
   "outputs": [],
   "source": [
    "!wget https://huggingface.co/BioMistral/BioMistral-7B-GGUF/resolve/main/ggml-model-Q5_K_M.gguf?download=true\n",
    "#then rename the file"
   ]
  },
  {
   "cell_type": "code",
   "execution_count": null,
   "id": "4def4709-e4a3-4380-87c6-e23129fb00e2",
   "metadata": {},
   "outputs": [],
   "source": [
    "!curl -fsSL https://ollama.com/install.sh | sh\n",
    "#ollama serve in a seperate terminal"
   ]
  },
  {
   "cell_type": "code",
   "execution_count": null,
   "id": "7d89e72d-ec0d-4712-bcc3-c2511a55ef8b",
   "metadata": {},
   "outputs": [],
   "source": [
    "!ollama create promptengineer48/new -f Modelfile"
   ]
  },
  {
   "cell_type": "code",
   "execution_count": null,
   "id": "7a7aa134-7f5d-48b5-ab76-fe0216492869",
   "metadata": {},
   "outputs": [],
   "source": [
    "!python key.py"
   ]
  },
  {
   "cell_type": "code",
   "execution_count": null,
   "id": "54d8cbb8-afe4-491c-bf38-4963bdde0f39",
   "metadata": {},
   "outputs": [],
   "source": [
    "!ollama list"
   ]
  },
  {
   "cell_type": "code",
   "execution_count": null,
   "id": "0c3fea38-e9d5-449f-8831-903a8f200de4",
   "metadata": {},
   "outputs": [],
   "source": [
    "!ollama push promptengineer48/new"
   ]
  },
  {
   "cell_type": "code",
   "execution_count": null,
   "id": "66fae361-50c8-4d29-99fa-b1a4d6c89222",
   "metadata": {},
   "outputs": [],
   "source": []
  }
 ],
 "metadata": {
  "kernelspec": {
   "display_name": "Python 3 (ipykernel)",
   "language": "python",
   "name": "python3"
  },
  "language_info": {
   "codemirror_mode": {
    "name": "ipython",
    "version": 3
   },
   "file_extension": ".py",
   "mimetype": "text/x-python",
   "name": "python",
   "nbconvert_exporter": "python",
   "pygments_lexer": "ipython3",
   "version": "3.10.12"
  }
 },
 "nbformat": 4,
 "nbformat_minor": 5
}
